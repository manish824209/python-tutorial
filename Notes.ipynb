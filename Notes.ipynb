{
 "cells": [
  {
   "cell_type": "markdown",
   "id": "7977a686",
   "metadata": {},
   "source": [
    "<div class=\"alert alert-block alert-info\"># Python notes </div>"
   ]
  },
  {
   "cell_type": "markdown",
   "id": "d6d76e85",
   "metadata": {},
   "source": [
    "## 1. Data Type"
   ]
  },
  {
   "cell_type": "markdown",
   "id": "49ccf58a",
   "metadata": {},
   "source": [
    "**Basic data Type**\n",
    "\n",
    "1  ---> Int data type  \n",
    "1.5 ----> Float data type  \n",
    "\"Manish Kumar\" ---> String data type  \n",
    "True / False  ----> Boolean data type  \n",
    "\n",
    "**Advance data Type**  \n",
    "\n",
    "[1, 1.5, \"Manish\", 1]  ---> List data Type  \n",
    "(1, 1.5, \"Manish\", 1)  ---> tuple data Type  \n",
    "{1, 1.5, \"Manish\"}   -----> Set data type  \n",
    "{\"Manish\" : \"7296000135\" , \"Ravi\": \"6201881238\"}  ----> Dictionary Data Type  "
   ]
  },
  {
   "cell_type": "markdown",
   "id": "6c15c226",
   "metadata": {},
   "source": [
    "## 2. Variable "
   ]
  },
  {
   "cell_type": "markdown",
   "id": "51b4c218",
   "metadata": {},
   "source": [
    "Variable means a container in which we store some values , and value can be different data types.  \n",
    "\n",
    "E.G :-  "
   ]
  },
  {
   "cell_type": "code",
   "execution_count": 1,
   "id": "a4fad398",
   "metadata": {},
   "outputs": [],
   "source": [
    "a = 1   # Iska matlb ye hai ye variable 'a' me ek int type ka data rakha hai jiska value 1 hai.\n",
    "\n",
    "b = 1.5 # Iska matlb ye hai ye variable 'b' me ek float type ka data rakha hai jiska value 1.5 hai.\n",
    "\n",
    "c = \"Manish Kumar\" # Iska matlb ye hai ye variable 'c' me ek string type\n",
    "                    #ka data rakha hai jiska value \"Manish Kumar\" hai.\n",
    "    \n",
    "d = True  # Iska matlb ye hai ye variable 'd' me ek boolean \n",
    "            #type ka data rakha hai jiska value True hai.\n",
    "\n",
    "# variable of  Advance data type \n",
    "\n",
    "arr = [1, 1.5, \"Manish\", 1]  # Iska matlb ye hai ki variable 'arr' me ek list type ka data stored hai\n",
    "\n",
    "arr2 = (1, 1.5, \"Manish\", 1) # Iska matlb ye hai ki variable 'arr2' me ek tuple \n",
    "                            # type ka data stored hai.\n",
    "\n",
    "s = {1, 1.5, \"Manish\"} # Iska matlb ye hai ki variable 's' me ek set type ka data stored hai.\n",
    "\n",
    "dict = {\"Manish\" : \"7296000135\" , \"Ravi\": \"6201881238\"} # Iska matlb ye hai ki variable 'dict' \n",
    "                                                        # me ek dictionary type ka data stored hai."
   ]
  },
  {
   "cell_type": "markdown",
   "id": "32e7736e",
   "metadata": {},
   "source": [
    "**Variable name banane ke Rules :-**"
   ]
  },
  {
   "cell_type": "markdown",
   "id": "f0e22835",
   "metadata": {},
   "source": [
    "1. Variable name ka starting letter alphabet hi hona chahiye na ki koi number, space, special character.\n",
    " - a = 0 ----> ye sahi hai\n",
    " - 1 = 0 ----> ye wrong hai  \n",
    " \n",
    "2. Variable name ke bich me ya kahi bhi space nahi hona chahiye. \n",
    " - total_number = 0  ----> ye sahi hai\n",
    " - total number = 0  ----> ye wrong hai  \n",
    " \n",
    "3. Variable number me kahi bhi Special character jaise ki \"@#.*$%!\" etc. kuch bhi nahi hona chahiye.\n",
    " - total#number = 0  ---> ye wrong hai\n",
    " - total_number = 0  ---> ye sahi hai   "
   ]
  },
  {
   "cell_type": "code",
   "execution_count": 4,
   "id": "900a8a03",
   "metadata": {},
   "outputs": [],
   "source": [
    "total_number = 0"
   ]
  },
  {
   "cell_type": "markdown",
   "id": "f316593f",
   "metadata": {},
   "source": [
    "### Input in Python"
   ]
  },
  {
   "cell_type": "markdown",
   "id": "d8e41548",
   "metadata": {},
   "source": [
    "Python me user input lene ke liye humlog input fuction ka use karte hain.  \n",
    "Syntax :-       \n",
    "input(\"Prompt\")      \n",
    "Lekin us user input ko store karne ke liye variable ke andar input lena hota hai     \n",
    "E.G : -  "
   ]
  },
  {
   "cell_type": "code",
   "execution_count": 18,
   "id": "a879d886",
   "metadata": {},
   "outputs": [
    {
     "name": "stdout",
     "output_type": "stream",
     "text": [
      "This is a integer input 1\n",
      "This is a float input 1.0\n",
      "This is a string input ravi\n",
      "Enter your integer with space separated 1 5\n"
     ]
    }
   ],
   "source": [
    "# Taking one Input in Single line\n",
    "\n",
    "integer_input = int(input(\"This is a integer input \"))\n",
    "float_input = float(input(\"This is a float input \"))\n",
    "string_input = str(input(\"This is a string input \"))\n",
    "\n",
    "# Taking 2 or more input in single line\n",
    "integer_input1, integer_input2 = map(int,input(\"Enter your integer with space separated \").split())\n"
   ]
  },
  {
   "cell_type": "markdown",
   "id": "e8500fe8",
   "metadata": {},
   "source": [
    "### Print in Python\n"
   ]
  },
  {
   "cell_type": "markdown",
   "id": "db94824e",
   "metadata": {},
   "source": [
    "Python me koi variable ya value print karne ke liye print() function ka use karte hain.  \n",
    "Syntax :- print()  \n",
    "E.G :-  \n"
   ]
  },
  {
   "cell_type": "code",
   "execution_count": 19,
   "id": "f54f8267",
   "metadata": {},
   "outputs": [
    {
     "name": "stdout",
     "output_type": "stream",
     "text": [
      "Hello World\n",
      "2\n"
     ]
    }
   ],
   "source": [
    "# Printing line by line\n",
    "a = 2\n",
    "print(\"Hello World\")\n",
    "print(a)"
   ]
  },
  {
   "cell_type": "code",
   "execution_count": 23,
   "id": "dcabc4e0",
   "metadata": {},
   "outputs": [
    {
     "name": "stdout",
     "output_type": "stream",
     "text": [
      "Hello_World 2\n",
      "Hello_World,2\n"
     ]
    }
   ],
   "source": [
    "# Printing in one line\n",
    "\n",
    "a = 2\n",
    "print(\"Hello_World\", end=\" \") #---> yaha space se separated hai\n",
    "print(a)\n",
    "\n",
    "print(\"Hello_World\", end=\",\") #---> yaha comma se separated hai\n",
    "print(a)\n",
    "\n",
    "# by default print new line se separated hota hai\n"
   ]
  },
  {
   "cell_type": "markdown",
   "id": "835f5874",
   "metadata": {},
   "source": [
    "# 3. Operator\n",
    "\n",
    "## Arithmetic Operators**\n",
    "\n",
    "Arithmetic operator humlog math ka  operation use karne ke  liye karte hain jaise ki +,-,*,/ etc.\n",
    "\n",
    "\n",
    "- operands :  x + y agar aisa likha hua hai to x or y operand hai or + operator hai\n",
    "\n"
   ]
  },
  {
   "cell_type": "code",
   "execution_count": 14,
   "id": "60071da6",
   "metadata": {},
   "outputs": [
    {
     "name": "stdout",
     "output_type": "stream",
     "text": [
      "Addition of x and y is  6\n",
      "Subtraction of x and y is  2\n",
      "Multiplication of x and y is  8\n",
      "Float division of x and y is  2.0\n",
      "Integer division of x and y is  2\n",
      "Modulus of x and y is  0\n",
      "Power of x to the y is  16\n"
     ]
    }
   ],
   "source": [
    "x = 4\n",
    "y = 2\n",
    "\n",
    "print(\"Addition of x and y is \", x+y)  # Addition of two operands or variable\n",
    "print(\"Subtraction of x and y is \", x-y)  # Subtraction of two operand or variable\n",
    "print(\"Multiplication of x and y is \", x*y) # Multiplication of two operand or variable\n",
    "print(\"Float division of x and y is \", x/y)  # Float division of two operand or variable\n",
    "print(\"Integer division of x and y is \", x//y) # Integer division of two operand or variable\n",
    "print(\"Modulus of x and y is \", x%y)  # Modulus operator remainder return karta hai jab\n",
    "                                      # x ko y se bhag dete hai\n",
    "print(\"Power of x to the y is \" , x**2) # x ka power y hai iska matlb"
   ]
  },
  {
   "cell_type": "markdown",
   "id": "15a26120",
   "metadata": {},
   "source": [
    "## Comparison Operators\n",
    "\n",
    "Comparision Operator humlog kisi chiz ko compare ya tulna karne ke liye karte hain."
   ]
  },
  {
   "cell_type": "code",
   "execution_count": 22,
   "id": "b2abc394",
   "metadata": {
    "scrolled": true
   },
   "outputs": [
    {
     "name": "stdout",
     "output_type": "stream",
     "text": [
      "True\n",
      "False\n",
      "False\n",
      "True\n",
      "True\n",
      "False\n",
      "False\n",
      "True\n"
     ]
    }
   ],
   "source": [
    "x = 4\n",
    "y = 2\n",
    "\n",
    "print(x>y)  # Greater Than : agar x bada hoga y se to true print hoga nahi to false hoga\n",
    "print(x<y)  # Smaller Than : agar x chota hoga y se to true print hoga nahi to false hoga\n",
    "print(x==y)  # double Equal to : agar x bara bar hoga y se to true print hoga nahi to false hoga\n",
    "print(x!=y)  # Not Equal to : agar x bara bar nahi hoga y se to true print hoga nahi to false hoga.\n",
    "print(x>=y)  # Greater than Equal to : agar x bada ya to bara bar hoga y se to true print hoga nahi to false hoga.\n",
    "print(x<=y)  # Less than Equal to : agar x chota ya bara bar hoga y se to true print hoga nahi to false hoga.\n",
    "print(x is y)  # Is : agar x bara bar hoga y se to true print hoga nahi to false hoga.\n",
    "print(x is not y)  # Is not : agar x bara bar hoga y se to true print hoga nahi to false hoga"
   ]
  },
  {
   "cell_type": "markdown",
   "id": "ce37fa8e",
   "metadata": {},
   "source": [
    "## Logical Operators\n",
    "\n",
    "Logical Operator ko humlog 2 ya 2 se jyada condition ko ek sath combine karne ke liye istemaal karte hain.  \n",
    " E.g :-  \n",
    " \n",
    "1. AND\n",
    "2. OR\n",
    "3. NOT\n",
    "\n",
    "**Note :-** Is operator ko padhne se pahle jaruri hai ki aap condition kya hota hai samjhe.\n",
    "To Chaliye condition ko samjhte hain kya hota hain.\n"
   ]
  },
  {
   "cell_type": "markdown",
   "id": "7acc0372",
   "metadata": {},
   "source": [
    "#### Condition / Flow control in Python\n",
    "\n",
    "Jaise ki real life  me humlog kuch decision lete hain or us decision ke anusar agla kaam karte hain.\n",
    "Theek usi tarah pyhton me bhi humlog kuch decision ke aadhar par kaam karne ke liye conditional statement ka istemaal karte hain.  \n",
    "**If - Elif - Else** statement ko Python me control statement bolte hain.\n",
    "ise kaise use karte hain chaliye ek program se samjhte hain."
   ]
  },
  {
   "cell_type": "markdown",
   "id": "37c06b7e",
   "metadata": {},
   "source": [
    "Q.  kisi user ka age diya rhega or usse hume check karna hai ki wo vote kar sakta hai ki nahi.\n",
    "Vote karne ke liye kuch niyam hai jaise\n",
    "1. age 18 ya us se upar ki honi chahiye   ---> yes you can vote\n",
    "2. age 60 ya us se kam ki honji chahiye   ----> yes you can vote\n",
    "3. agar upar ki dono comdition satisfy nahi nkarta hai to use vote nahi kar sakta hai --> you can't vote"
   ]
  },
  {
   "cell_type": "code",
   "execution_count": 2,
   "id": "5704523e",
   "metadata": {},
   "outputs": [
    {
     "name": "stdout",
     "output_type": "stream",
     "text": [
      "6\n",
      "yes you can vote\n"
     ]
    }
   ],
   "source": [
    "age  = int(input())\n",
    "if age >= 18:\n",
    "    print(\"Yes you can vote\")\n",
    "elif age <= 60:\n",
    "    print(\"yes you can vote\")\n",
    "else:\n",
    "    print(\"you can't vote\")\n",
    "        "
   ]
  },
  {
   "cell_type": "markdown",
   "id": "6e2e736a",
   "metadata": {},
   "source": [
    "Ab Upar wale program me ek bug aya ki agar age ka value 18 se chota rkhte hain to ans galat aata hai. \n",
    "agar ab baat ki jaye ki isko kaise thik kare. To is code ko humlog sudhar sakte hain **Logical Operator** ke help se.\n",
    "Abhi tak humlog ye jante hain ki logical operator humlog 2 ya 2 se jyadea condition ko combine karne ke liye istemaal karte hain to chaliye dekhte hain ki kaise ise thik kare."
   ]
  },
  {
   "cell_type": "code",
   "execution_count": 7,
   "id": "c86532d2",
   "metadata": {},
   "outputs": [
    {
     "name": "stdout",
     "output_type": "stream",
     "text": [
      "67\n",
      "yes you can vote\n"
     ]
    }
   ],
   "source": [
    "age  = int(input())\n",
    "\n",
    "if age <= 60 and age >= 18:\n",
    "    print(\"yes you can vote\")\n",
    "else:\n",
    "    print(\"you can't vote\")\n"
   ]
  },
  {
   "cell_type": "markdown",
   "id": "a9a86daf",
   "metadata": {},
   "source": [
    "Q. 2 user input lena hai first input user ka gender ka hoga jo ki string input hoga or second input age ka hoga jo int input hoga. ab hume print karna hai ki user vote kar sakta hai ya nahi. Vote karne ke liye kuch condition hai.\n",
    "1. agar user male hai to age 18 ya uske upar ka hona chahiye\n",
    "2. agar user female hai to age 16 ya uske upar hona chahiye."
   ]
  },
  {
   "cell_type": "code",
   "execution_count": 15,
   "id": "5834ad23",
   "metadata": {},
   "outputs": [
    {
     "name": "stdout",
     "output_type": "stream",
     "text": [
      "Enter you gender like male/female = male\n",
      "Enter your age in number = 20\n",
      "Yes you can vote\n"
     ]
    }
   ],
   "source": [
    "gender = str(input(\"Enter you gender like male/female = \"))\n",
    "age  = int(input(\"Enter your age in number = \"))\n",
    "# if gender == \"male\" and age >= 18:\n",
    "#     print(\"Yes you can vote\")\n",
    "# elif gender == \"female\" and age >= 16:\n",
    "#     print(\"Yes you can vote\")\n",
    "# else:\n",
    "#     print(\"You can't vote\")\n",
    "\n",
    "#Isi program ko OR ke help se kaise banaye\n",
    "\n",
    "if (gender == \"male\" and age >= 18) or (gender == \"female\" and age >= 16):\n",
    "    print(\"Yes you can vote\")\n",
    "else:\n",
    "    print(\"You can't vote\")\n"
   ]
  },
  {
   "cell_type": "code",
   "execution_count": 23,
   "id": "66f919ca",
   "metadata": {},
   "outputs": [
    {
     "name": "stdout",
     "output_type": "stream",
     "text": [
      "Not executed\n"
     ]
    }
   ],
   "source": [
    "a = 4\n",
    "b = False\n",
    "\n",
    "if  not b:\n",
    "    print(\"Not executed\")\n",
    "else:\n",
    "    print('Not execute nahi hua')"
   ]
  },
  {
   "cell_type": "markdown",
   "id": "2090f3b5",
   "metadata": {},
   "source": [
    "**AND** operator apne left or right dono condition ko true hone pe hi andar wala code run hota hai.  \n",
    "**OR** operator apne left or right dono me se koi ek bhi condition ko true hone pe andar wala code run hota hai.  \n",
    "**NOT** operator ke andar wala tab run hota hai jab tab condition false hota hai"
   ]
  },
  {
   "cell_type": "markdown",
   "id": "e109b400",
   "metadata": {},
   "source": [
    "## Bitwise Operators\n",
    "\n",
    "Is topic ko baad me padhenge"
   ]
  },
  {
   "cell_type": "markdown",
   "id": "4de9069f",
   "metadata": {},
   "source": [
    "## Assignment Operators \n",
    "\n",
    "Assignment Operator humlog variable me value dalne ke liye use karte hain. or jo value hai wo badha ke ghata ke ya guna kar ke ityadi operation karne ke baad humlog variable me dalte hain."
   ]
  },
  {
   "cell_type": "code",
   "execution_count": 34,
   "id": "d2459638",
   "metadata": {},
   "outputs": [
    {
     "name": "stdout",
     "output_type": "stream",
     "text": [
      "8\n",
      "10\n",
      "7\n",
      "14\n",
      "2.0\n",
      "2\n",
      "4.0\n"
     ]
    }
   ],
   "source": [
    "num1 = 5\n",
    "\n",
    "num1 = 8   # ----> Equals to \n",
    "print(num1)\n",
    "\n",
    "num1 += 2  # ---->  add Equals to \n",
    "print(num1)\n",
    "\n",
    "num1 -= 3   # ----> subtract Equals to\n",
    "print(num1)\n",
    "\n",
    "num1 *= 2  # ----> multiply Equals to\n",
    "print(num1)\n",
    "\n",
    "num1 /= 7  # ----> float division Equals to\n",
    "print(num1)\n",
    "\n",
    "a = 4\n",
    "a = a//2  # ----> integer division Equals to\n",
    "print(a)\n",
    "\n",
    "num1 **= 2  # -----> Power equals to\n",
    "print(num1)"
   ]
  },
  {
   "cell_type": "markdown",
   "id": "e194adbc",
   "metadata": {},
   "source": [
    "## Q. Koi number ko kaise pata kare ki ye kisi number se divisible hai ya nahi\n",
    "\n",
    "E.G :-\n",
    "hume pata karna hai ki a, b se divisible hai ya nahi  ---> a/b"
   ]
  },
  {
   "cell_type": "code",
   "execution_count": 38,
   "id": "5dbac39a",
   "metadata": {},
   "outputs": [
    {
     "name": "stdout",
     "output_type": "stream",
     "text": [
      "a is divisible by b\n"
     ]
    }
   ],
   "source": [
    "a = 8\n",
    "b = 2\n",
    "if a%b==0:\n",
    "    print(\"a is divisible by b\")\n",
    "else:\n",
    "    print(\"Not divisible\")"
   ]
  },
  {
   "cell_type": "markdown",
   "id": "b5e36a5e",
   "metadata": {},
   "source": [
    "**Even Number** --> jo number 2 se pure tarah se kat jye wo even number hota hai"
   ]
  },
  {
   "cell_type": "code",
   "execution_count": 37,
   "id": "d2baabdf",
   "metadata": {},
   "outputs": [
    {
     "name": "stdout",
     "output_type": "stream",
     "text": [
      "Odd Number\n"
     ]
    }
   ],
   "source": [
    "a = 9\n",
    "if a%2==0:\n",
    "    print(\"Even Number\")\n",
    "else:\n",
    "    print(\"Odd Number\")"
   ]
  },
  {
   "cell_type": "markdown",
   "id": "25e1a975",
   "metadata": {},
   "source": [
    "## Q. For Practice\n",
    "\n",
    "2 input lena hai first gender or second age. hme check karna hai ki user vote kar sakta hai ya nahi.  \n",
    "Vote karne ke liye kuch condition hai...\n",
    "1. agar user male hai to uska age 18 ya us se upar or 60 ya us se niche or uske age even number hona chahiye.\n",
    "2. ager user female hai to uska age 16 ya us se upar or 60 ya us se niche uska age odd number hona chahiye."
   ]
  },
  {
   "cell_type": "code",
   "execution_count": 6,
   "id": "f4f9b503",
   "metadata": {},
   "outputs": [
    {
     "name": "stdout",
     "output_type": "stream",
     "text": [
      "Enter you gender like male/female = female\n",
      "Enter your age in number = 28\n",
      "You can't vote\n"
     ]
    }
   ],
   "source": [
    "''''gender = str(input(\"Enter you gender like male/female = \"))\n",
    "age = int(input(\"Enter your age in number = \"))\n",
    "\n",
    "if gender == \"male\" and age >= 18 and age <=60 and age%2==0:\n",
    "      print(\"Yes you can vote\")\n",
    "elif gender == \"female\" and age >= 16  and age <=60 and age%2!=0:\n",
    "      print(\"Yes you can vote\")\n",
    "else:\n",
    "     print(\"You can't vote\")'''\n",
    "\n",
    "gender = str(input(\"Enter you gender like male/female = \"))\n",
    "age = int(input(\"Enter your age in number = \"))\n",
    "\n",
    "if (gender == \"male\" and age >= 18 and age <=60 and age%2==0) or (gender == \"female\" and age >= 16  and age <=60 and age%2!=0):\n",
    "      print(\"Yes you can vote\")\n",
    "else:\n",
    "     print(\"You can't vote\")"
   ]
  },
  {
   "cell_type": "markdown",
   "id": "1f1b3d7d",
   "metadata": {},
   "source": [
    "**Q. Take a integer input n from user and print the next even number after it.**\n",
    "E.G :-  \n",
    "I/N - 4  \n",
    "O/P - 6\n",
    "\n",
    "I/N - 5  \n",
    "O/p - 6"
   ]
  },
  {
   "cell_type": "code",
   "execution_count": 14,
   "id": "8e7646d8",
   "metadata": {},
   "outputs": [
    {
     "name": "stdout",
     "output_type": "stream",
     "text": [
      "4\n",
      "6\n"
     ]
    }
   ],
   "source": [
    "n = int(input())\n",
    "if n%2==0:\n",
    "    print(n+2)\n",
    "else:\n",
    "    print(n+1)"
   ]
  },
  {
   "cell_type": "markdown",
   "id": "d468ebd4",
   "metadata": {},
   "source": [
    "# Loops In Python\n",
    "\n",
    "**Loops :** ka use humlog tab karte hain Jab kisi instruction ko lagatar run karna hota hai tab tak ki jab tak ki ek certain condition tak na pahuche. \n",
    "\n",
    "\n",
    "**Types of For Loops :-**\n",
    "\n",
    "### 1. For loop with range function**\n",
    "\n",
    "syntax :-\n",
    "\n",
    "for i in range(start, end, step):  \n",
    "    # statements\n"
   ]
  },
  {
   "cell_type": "markdown",
   "id": "21d8a67e",
   "metadata": {},
   "source": [
    "Q. Print the number from 1 to 10."
   ]
  },
  {
   "cell_type": "code",
   "execution_count": 2,
   "id": "464cc009",
   "metadata": {
    "scrolled": true
   },
   "outputs": [
    {
     "name": "stdout",
     "output_type": "stream",
     "text": [
      "1 2 3 4 5 6 7 8 9 10 "
     ]
    }
   ],
   "source": [
    "for i in range(1, 10+1):\n",
    "    print(i, end=\" \")"
   ]
  },
  {
   "cell_type": "markdown",
   "id": "d4cc66fc",
   "metadata": {},
   "source": [
    "Q. Take start and end input from user and print the even number from the given range."
   ]
  },
  {
   "cell_type": "code",
   "execution_count": 4,
   "id": "538bf21d",
   "metadata": {},
   "outputs": [
    {
     "name": "stdout",
     "output_type": "stream",
     "text": [
      "Enter a starting number = 1\n",
      "Enter ending number = 10\n",
      "2 4 6 8 10 "
     ]
    }
   ],
   "source": [
    "start = int(input(\"Enter a starting number = \"))\n",
    "end = int(input(\"Enter ending number = \"))\n",
    "\n",
    "for i in range(start,end+1):\n",
    "    if i % 2 == 0:\n",
    "        print(i,end=\" \")"
   ]
  },
  {
   "cell_type": "markdown",
   "id": "d5499b87",
   "metadata": {},
   "source": [
    "### Sum in Loops\n",
    "**Q. Take start and end input from user and print the sum of even number from the given range.**"
   ]
  },
  {
   "cell_type": "code",
   "execution_count": 6,
   "id": "4567052e",
   "metadata": {},
   "outputs": [
    {
     "name": "stdout",
     "output_type": "stream",
     "text": [
      "Enter a starting number = 1\n",
      "Enter ending number = 10\n",
      "30\n"
     ]
    }
   ],
   "source": [
    "start = int(input(\"Enter a starting number = \"))\n",
    "end = int(input(\"Enter ending number = \"))\n",
    "\n",
    "total = 0\n",
    "\n",
    "for i in range(start,end+1):\n",
    "    if i%2==0:\n",
    "        total += i\n",
    "print(total)"
   ]
  },
  {
   "cell_type": "markdown",
   "id": "4d6e2f59",
   "metadata": {},
   "source": [
    "**Q. Take a integer input n from user and print the number lies between in the number but following with certain condition.**\n",
    "1. if number is divisible by 3 then print Fizz.\n",
    "2. if number is divisible by 5 then print Buzz.\n",
    "3. if number is divisible by 3 and 5 both then print Fizz Buzz.\n",
    "4. if number is not divisible by any of them then print the number.\n"
   ]
  },
  {
   "cell_type": "code",
   "execution_count": 9,
   "id": "69b4f9fc",
   "metadata": {},
   "outputs": [
    {
     "name": "stdout",
     "output_type": "stream",
     "text": [
      "15\n",
      "1 2 Fizz 4 Buzz Fizz 7 8 Fizz Buzz 11 Fizz 13 14 FizzBuzz "
     ]
    }
   ],
   "source": [
    "n = int(input())\n",
    "for i in range(1,n+1):\n",
    "    if i % 3 == 0 and i % 5 == 0:\n",
    "        print(\"FizzBuzz\", end =\" \")\n",
    "    elif i % 3 == 0:\n",
    "        print(\"Fizz\", end =\" \")\n",
    "    elif i % 5 == 0:\n",
    "        print(\"Buzz\", end =\" \")\n",
    "    else:\n",
    "        print(i, end =\" \")"
   ]
  },
  {
   "cell_type": "markdown",
   "id": "a2e7ddfe",
   "metadata": {},
   "source": [
    "### 2. For each loop in python\n",
    "\n",
    "this loop is also called for in loop.  \n",
    "\n",
    "syntax :-   \n",
    " \n",
    "for i in iterable_object:  \n",
    "   #statements\n",
    "\n",
    "**Iterable_object** means ki wo object jo apne andar ek ya us se jyada chiz jod ke rkhne ka chhamta ho like String, List, tuple, dictionary etc.  "
   ]
  },
  {
   "cell_type": "code",
   "execution_count": 11,
   "id": "09a142f9",
   "metadata": {},
   "outputs": [
    {
     "name": "stdout",
     "output_type": "stream",
     "text": [
      "H e l l o _ W o r l d "
     ]
    }
   ],
   "source": [
    "string = \"Hello_World\"\n",
    "\n",
    "for i in string:\n",
    "    print(i,end=\" \")"
   ]
  },
  {
   "cell_type": "markdown",
   "id": "39fe65e4",
   "metadata": {},
   "source": [
    "### Control statements in Loops\n",
    "\n",
    "control statements wo hota hai jis se humlog loop ke upar control karte hain jaise loop ko bich me hi khatam karna ya uske move kar jana etc.  \n",
    "E.G -    \n",
    "**break** : ye statement tab use kara jata jab hume ek fix condition pe loop ko khatam karna ho.  \n",
    "**Continue** : ye statement tab use kara jata hai jab hume koi condition pe loop ke us iteration ko skip karna ho.   \n",
    "\n",
    "chaliye ise niche ke example se samjhte hain.  "
   ]
  },
  {
   "cell_type": "code",
   "execution_count": 12,
   "id": "6df6816f",
   "metadata": {},
   "outputs": [
    {
     "name": "stdout",
     "output_type": "stream",
     "text": [
      "1 2 3 4 "
     ]
    }
   ],
   "source": [
    "# break\n",
    "\n",
    "for i in range(1,11):\n",
    "    if i==5:\n",
    "        break\n",
    "    print(i, end=\" \")"
   ]
  },
  {
   "cell_type": "code",
   "execution_count": 13,
   "id": "36bed3e4",
   "metadata": {},
   "outputs": [
    {
     "name": "stdout",
     "output_type": "stream",
     "text": [
      "1 2 3 4 6 7 8 9 10 "
     ]
    }
   ],
   "source": [
    "#  Continue\n",
    "\n",
    "for i in range(1,11):\n",
    "    if i == 5:\n",
    "        continue\n",
    "    print(i,end=\" \")"
   ]
  },
  {
   "cell_type": "markdown",
   "id": "003e1fc0",
   "metadata": {},
   "source": [
    "# Strings In Python\n",
    "\n",
    "**Iterable -** Iterable object wo chiz hota hai jiske andar ek se jyada chiz hoti hain, or uske andar kya hai wo jan ne ke liye humlog loop ka help lete hain.  \n",
    "\n",
    "String bhi ek iterable object hai jo apne andar ek ya ek se jyada character hold karke rkh sakta hai. 'character' kuch bhi ho sakta hai jaise ki alphabet, number or special character.  \n",
    "\n",
    "string ko single, double or triple quotes se represent kiya jata hai python me.\n",
    "E.g-  a = \"Ravi\", b = '''Hello World''', c = '1234'.  \n"
   ]
  },
  {
   "cell_type": "code",
   "execution_count": null,
   "id": "10fd667c",
   "metadata": {},
   "outputs": [],
   "source": []
  },
  {
   "cell_type": "markdown",
   "id": "ec0fc51b",
   "metadata": {},
   "source": [
    "### Property of String\n",
    " 1. Humlog abhi upar dekhe ki string ek iterable object jiske wajah se humlog uske andar ke character ko loop ke help se access kar sakte hain. \n",
    " 2. String Indexing support karta hai matlb ki humlog string ke kisi character ko index value ke help se access kar sakte hain. String ka indexing **0** se start hota hai or **Length of String - 1** pe khatam hota hain. E.g. - `a = \"Hello_World\"` agar humlo ko dekhna hai ki a ke second charcter kya hai to hume print karna hoga `print(a[1])` yaha index ek kam isliye hain kyu ki humne upar abhi padha tha ki string me indexing 0 se start hota hai. \n",
    "    - **Positive or Negative Indexing -** Ab kyu ki string indexing support karta hain to **Python** me string ka index positive or negative dono hota hai. Positive indexing ka matlb ki index number positive ho jaise .. `a = \"Python\"` `print(a[0])` `print(a[1])`. Negative index ka matlab ki jiska index negative number ho jaise.. `a = \"Python\"` `print(a[-1])` `print(a[-2]) `.  \n",
    "    Note - Negative index **-1** se start hota hai or **-length of string** pe end hota hai.\n",
    "    - **String Slicing -** Kyu ki string indexing support karta hai jiske wajah se humlog python me string ka slicing bhi kar sakte hain. String slicing matlb ki humlog original string ko hi alag alag part me tod sakte hain.   \n",
    "    Syntax for slicing - varible_name[start:end+1].   \n",
    "     E.g. `a = \"Python is love\"` `print(a[0:6])`.  \n",
    "     Note - String ka Slicing karne se orginal string me kuch changes nhi hota hai kyu ki string immutable hota, Slicing karne se original string ka hi ek copy value given range tak generate hot hai.\n",
    " 3. String Immutable hota hai, Matlb ki aap string ke kisi ek ya ek se jyada value ko nahi badal sakte hain. Aisa is liye hota hai kyu ki fir security issues aa jayenge. Chaho to aap pura string hi badal sakte hain. E.g - `a = \"Ravi\"` `a[0] = \"M\"` aisa nhi kar sakte hain kyu ki ke string ke immutable rule ko break karega. humlog pura ka pura string ka value hi badal sajte hain jaise `a = \"Manish\"`. \n",
    "\n",
    " 4. String two arithmetic Operator ko support karta hai **+** or **\\***.  \n",
    " \n",
    "  **+**  operator jab do ya usse jyada string ko jodna (Concatenate) hota hai to use karte hain.    \n",
    "  E.g.- `a = \"Python\"`,`b = \"Tutorial\"`, `print(a + \" \" + b)` .       \n",
    "  **\\*** operator jab string ko humlog ko ek specific number of times multilply karna hota hai to use   karte hain.  E.g. - `a = \"Python \"` , `print(a*3)`. "
   ]
  },
  {
   "cell_type": "code",
   "execution_count": 2,
   "id": "1fdea952",
   "metadata": {},
   "outputs": [
    {
     "name": "stdout",
     "output_type": "stream",
     "text": [
      "P y t h o n \n",
      "P y t h o n \n",
      "P\n",
      "n\n",
      "Pyt\n",
      "java\n",
      "Python Tutorial\n",
      "Python Python Python \n"
     ]
    }
   ],
   "source": [
    "# Propert No. 1\n",
    "a = \"Python\"\n",
    "for i in a:\n",
    "    print(i,end=\" \")\n",
    "print()\n",
    "\n",
    "a=  \"Python\"\n",
    "n = len(a)\n",
    "for i in range(0,n):\n",
    "    print(a[i],end=\" \")\n",
    "print()\n",
    "\n",
    "# Propert No. 2\n",
    "a = \"Python\"\n",
    "print(a[0])\n",
    "print(a[-1])\n",
    "print(a[0:3])\n",
    "\n",
    "# Propert No. 3\n",
    "a = \"Python\"\n",
    "# a[2] = \"j\"  Ye humlog nahi nhi sakte hain aisa karne se error ayega \n",
    "a = \"java\"\n",
    "print(a)\n",
    "\n",
    "# Propert No. 4\n",
    "a = \"Python\"\n",
    "b = \"Tutorial\"\n",
    "print(a + \" \" + b)\n",
    "\n",
    "a = \"Python \"\n",
    "print(a*3)"
   ]
  },
  {
   "cell_type": "markdown",
   "id": "3e44af2f",
   "metadata": {},
   "source": [
    "### Function of Strings..\n",
    "\n",
    "1. **Length of string -** string ka length jan ne ke liye len function ka use karte hain.   \n",
    "Syntax : len(string/variable_name). E.g. - `a = \"Pyhton\"` `print(len(a))`\n",
    "2. **Index of substring -** Kisi substring ya charcter ka index jan ne ke liye index function ka use karte hain.  \n",
    "Syntax : stringName.index(substring). E.g. - `a = \"Python\"` `b = a.index(\"o\")` `print(b)`\n",
    "3. **Replace in string -** Jab string me ek particular character ya substring ke jagah kuch naya character ya substring replace karna ho to replace function ka use karte hain.   \n",
    "Syntax: string.replace(old, new, count). E.g. -  `a = \"fuck\"` `b = a.replace(\"uc\",\"**\")` `print(b)`   \n",
    "Parameters:  \n",
    "- *old* – old character ya substring jiske jagah replace karna hai.    \n",
    "- *new* – new substring jisko add karna hai old ke jagah.    \n",
    "- *count* – (Optional ) jitna baar replace karna hai agar iske jagah kuch nahi daloge to ye pure string ke liye karega by default jitna baar old hoga utna new put kar dega.     \n",
    "- Return Value : It returns a copy of the string where all occurrences of a substring are replaced with another substring. \n",
    "4. **Split In String** jab string ko kisi separator ke aadhar pe split karna ho jaise comma, space, newLine, etc. to split function ka use karte hain.  \n",
    "Syntax: string.split(separator).  E.g. -  `a = \"Python,is,love\"` `b = a.split(\",\")` `print(b)`    \n",
    "Parameters:\n",
    "- *separator* – jis separator se split karna ho by default kuch nhi dene pe space se split hota hai.\n",
    "- Return Value : It returns a list of the string after splitting based on separator given."
   ]
  },
  {
   "cell_type": "code",
   "execution_count": 17,
   "id": "e101a604",
   "metadata": {
    "scrolled": false
   },
   "outputs": [
    {
     "name": "stdout",
     "output_type": "stream",
     "text": [
      "f**k f**k fuck fuck\n",
      "1 2 3 4 5\n",
      "[1, 2, 3, 4, 5]\n",
      "15\n"
     ]
    }
   ],
   "source": [
    "a = \"fuck fuck fuck fuck\"\n",
    "b = a.replace(\"uc\",\"**\",2)\n",
    "print(b)\n",
    "# 1 2 3\n",
    "# [\"1\",\"2\",\"3\"]\n",
    "# a,b,c = input().split(\" \")\n",
    "# print(a,b,c)\n",
    "# print(type(int(a)))\n",
    "\n",
    "\n",
    "# Map fuction\n",
    "\n",
    "# map(function, iterable object)\n",
    "\n",
    "# a = list(map(int,input().split(\" \")))\n",
    "# print(type(a[0]))\n",
    "\n",
    "# n size ka array  n = 5\n",
    "\n",
    "# 1 2 3 4 5\n",
    "\n",
    "# print(sum of all elemants)\n",
    "\n",
    "# arr = list(map(int, input().split(\" \")))\n",
    "# print(arr)\n",
    "# sum = 0\n",
    "# for i in arr:\n",
    "#     sum += i\n",
    "# print(sum)\n"
   ]
  },
  {
   "cell_type": "markdown",
   "id": "b033e1a9",
   "metadata": {},
   "source": [
    "### Basic Question On String.\n",
    "\n",
    "**Q.1 Print every character of string with space separated.**"
   ]
  },
  {
   "cell_type": "code",
   "execution_count": 18,
   "id": "ae196551",
   "metadata": {},
   "outputs": [
    {
     "name": "stdout",
     "output_type": "stream",
     "text": [
      "Enter your Text here \n",
      "ravi\n",
      "r a v i "
     ]
    }
   ],
   "source": [
    "# Method 1\n",
    "'''string  = input(\"Enter your Text here \\n\")\n",
    "for i in string:\n",
    "    print(i,end=\" \")'''\n",
    "# Method 2\n",
    "string = input(\"Enter your Text here \\n\")\n",
    "n = len(string)\n",
    "for i in range(0,n):\n",
    "    print(string[i],end=\" \")"
   ]
  },
  {
   "cell_type": "markdown",
   "id": "740fe937",
   "metadata": {},
   "source": [
    "**Q.2 Check if a character or substring is present in string or not .**\n",
    "\n",
    "we are given a user input string our task is to determine if character \"a\" present in string or not."
   ]
  },
  {
   "cell_type": "code",
   "execution_count": 19,
   "id": "41e3ea39",
   "metadata": {},
   "outputs": [
    {
     "name": "stdout",
     "output_type": "stream",
     "text": [
      "Enter your text here \n",
      "tulsi\n",
      "No, character a is not present in given string\n"
     ]
    }
   ],
   "source": [
    "string = input(\"Enter your text here \\n\")\n",
    "if \"a\" in string:\n",
    "    print(\"Yes, character a is present in given string\")\n",
    "else:\n",
    "    print(\"No, character a is not present in given string\")"
   ]
  },
  {
   "cell_type": "code",
   "execution_count": 21,
   "id": "6808ef80",
   "metadata": {},
   "outputs": [
    {
     "name": "stdout",
     "output_type": "stream",
     "text": [
      "manish\n",
      "yes\n"
     ]
    }
   ],
   "source": [
    "# In keyword ka internal process\n",
    "\n",
    "string = input()\n",
    "\n",
    "n = len(string)\n",
    "\n",
    "flag = False\n",
    "\n",
    "for i in range(0,n):\n",
    "    if \"a\" == string[i]:\n",
    "        flag = True\n",
    "        print('yes')\n",
    "        break\n",
    "        \n",
    "if flag == False:\n",
    "    print('No')\n"
   ]
  },
  {
   "cell_type": "markdown",
   "id": "58b14aca",
   "metadata": {},
   "source": [
    "we are given a user input string our task is to determine if any special character is present in string or not."
   ]
  },
  {
   "cell_type": "code",
   "execution_count": 7,
   "id": "eec61005",
   "metadata": {
    "scrolled": true
   },
   "outputs": [
    {
     "name": "stdout",
     "output_type": "stream",
     "text": [
      "Enter your text here \n",
      "fgh  \n",
      "No, special character is not present in given string\n",
      "Enter your text here \n",
      "frtu r\n",
      "No, special character is not present in given string\n"
     ]
    }
   ],
   "source": [
    "string = input(\"Enter your text here \\n\")\n",
    "special_character = \"!@#$%^&*()_+}{[|\\/><:;~`]}\"\n",
    "flag = False\n",
    "# Method 1\n",
    "\n",
    "for i in string:\n",
    "    if i in special_character:\n",
    "        flag = True\n",
    "        print(\"Yes, special character is present in given string\")\n",
    "        break\n",
    "if flag == False:\n",
    "     print(\"No, special character is not present in given string\")\n",
    "        \n",
    "# Method 2  \n",
    "\n",
    "string = input(\"Enter your text here \\n\")\n",
    "special_character = \"!@#$%^&*()_+}{[|\\/><:;~`]}\"\n",
    "flag = False\n",
    "for i in range(0,len(string)):\n",
    "    if string[i] in special_character:\n",
    "        flag = True\n",
    "        print(\"Yes, special character is present in given string\")\n",
    "        break\n",
    "if flag == False:\n",
    "     print(\"No, special character is not present in given string\")"
   ]
  },
  {
   "cell_type": "markdown",
   "id": "c9fd08e5",
   "metadata": {},
   "source": [
    "**Q.3 Reverse of String .**\n",
    "\n",
    "We are given a user input string and our task is to print string reverse.  \n",
    "Algorithm -\n",
    "- Ek empty string banao jisme apna final string store karenge\n",
    "- ab original string ek har character ko iterate karo loop ke help se\n",
    "- ab loop ke andar original string ke har character ko  apne empty wale string ke left me add karte jao\n",
    "- loop khatamn hone ke baad apna required string jisme store hai usko print kar do"
   ]
  },
  {
   "cell_type": "code",
   "execution_count": 22,
   "id": "d017cf2d",
   "metadata": {},
   "outputs": [
    {
     "name": "stdout",
     "output_type": "stream",
     "text": [
      "Enter your text here \n",
      "ravi\n",
      "ivar\n"
     ]
    }
   ],
   "source": [
    "string = input(\"Enter your text here \\n\")\n",
    "reverse_string = \"\"\n",
    "for i in string:\n",
    "    reverse_string = i + reverse_string\n",
    "print(reverse_string)\n",
    "'''\n",
    "ravi\n",
    "\"\"\n",
    "r+\"\" = \"r\"\n",
    "a+\"r\" = \"ar\"\n",
    "v + \"ar\" = \"var\"\n",
    "i + \"var\" = \"ivar\"\n",
    "\"ivar\"\n",
    "\n",
    "'''"
   ]
  },
  {
   "cell_type": "markdown",
   "id": "390b61ee",
   "metadata": {},
   "source": [
    "**Q.3 Count Occurence of a charcter or substring in string .**\n",
    "\n",
    "We are given a user input string and out task is to count the occurrence of character \"a\" in input string.  \n",
    "Algorithm -\n",
    "- Ek counter variable banao jisme occurence ke count ko store karenge or uska value initially 0 rkho.\n",
    "- ab original string ek har character ko iterate karo loop ke help se\n",
    "- ab loop ke andar ek condition banao ki agar original string ka character \"a\" ke equal hai to counter variable ko ek se increment karo.\n",
    "- loop khatamn hone ke baad counter variable ko print kar do\n",
    "\n"
   ]
  },
  {
   "cell_type": "code",
   "execution_count": 11,
   "id": "ce01d26c",
   "metadata": {},
   "outputs": [
    {
     "name": "stdout",
     "output_type": "stream",
     "text": [
      "Enter your text here \n",
      "ravi kumar\n",
      "The Occurence of character a in string is  2\n"
     ]
    }
   ],
   "source": [
    "string = input(\"Enter your text here \\n\")\n",
    "count = 0\n",
    "for i in string:   \n",
    "    if i == \"a\":\n",
    "        count += 1\n",
    "print(\"The Occurence of character a in string is \",count)\n"
   ]
  },
  {
   "cell_type": "markdown",
   "id": "cfd62bd9",
   "metadata": {},
   "source": [
    "# List In Python"
   ]
  },
  {
   "cell_type": "markdown",
   "id": "d327530d",
   "metadata": {},
   "source": [
    "List bhi ek iterable object hai jo apne andar ek ya us se jyada different tarike ka primitive or non-primitive data type hold kar ke rkh sakta hai.  \n",
    "**Primitive data type :-** int,float,boolean  \n",
    "**Non-Primitive data type :-** List,Tuple,Dictionary,Set,String   \n",
    "Empty List ko  `a = []` or `a = list()` aise declare karte hain.  "
   ]
  },
  {
   "cell_type": "markdown",
   "id": "82b94b12",
   "metadata": {},
   "source": [
    "### Property of List\n",
    " 1. Jaisa ki humlog jante hain ki List bhi ek iterable object jiske wajah se humlog uske andar ke elements ko loop ke help se access kar sakte hain.\n",
    " 2. List Indexing support karta hai matlb ki humlog List ke kisi element ko uske index value ke help se access kar sakte hain. List ka indexing **0** se start hota hai or **Length of List - 1** pe khatam hota hain. E.g. - `a = [10,20,30]` agar humlog ko dekhna hai ki **a** ka second element kya hai to hume print karna hoga `print(a[1])` yaha index ek kam isliye hain kyu ki humne upar abhi padha tha ki string me indexing 0 se start hota hai. \n",
    "    - **Positive or Negative Indexing -** Ab kyu ki List indexing support karta hain to **Python** me List ka index positive or negative dono hota hai. Positive indexing ka matlb ki index number positive ho jaise .. `a = [10,20,30]` `print(a[0])` `print(a[1])`. Negative index ka matlab ki jiska index negative number ho jaise.. `a = [10,20,30]` `print(a[-1])` `print(a[-2]) `.    \n",
    "    Note - Negative index **-1** se start hota hai or **-length of string** pe end hota hai.\n",
    "    - **List Slicing -** Kyu ki List indexing support karta hai jiske wajah se humlog python me List ka slicing bhi kar sakte hain. List slicing matlb ki humlog original List ko hi alag alag part me tod sakte hain.   \n",
    "    Syntax for slicing - varible_name[start:end+1].   \n",
    "     E.g. `a = [10,20,30,40,50,60]` `print(a[0:3])`.    \n",
    "     Note - List ka Slicing karne se orginal string me kuch changes nhi hota hai , Slicing karne se original List ka hi ek copy value given range tak generate hot hai.\n",
    " 3. List Mutable hota hai, Matlb ki aap List ke kisi ek ya ek se jyada element ko badal sakte hain. Kyu ki list mutable hot hai or sath hi sath hum isme element ko sirf badal hi nhi balki delete or add bhi add kar sakte hain, isiliye list ko humlog dynamic array bhi kahte hain.  \n",
    " 4. List bhi do arithmetic Operator ko support karta hai **+** or **\\***.    \n",
    " \n",
    "  **+**  operator jab do ya usse jyada List ko ek me hi jodna (Concatenate) hota hai to use karte hain.    \n",
    "  E.g.- `a = [10,20,30]`,`b = [40,50,60]\"`, `print(a + b)` .       \n",
    "  **\\*** operator jab List ke andar ke elements ka specific number of copies usi list me karna hota hai to use karte hain.  E.g. - `a = [0]*10` , `print(a)`."
   ]
  },
  {
   "cell_type": "code",
   "execution_count": 38,
   "id": "4f74e770",
   "metadata": {},
   "outputs": [
    {
     "name": "stdout",
     "output_type": "stream",
     "text": [
      "[60, 40]\n"
     ]
    }
   ],
   "source": [
    "a = [10,20,30,40,50,60]\n",
    "# start:stop:step\n",
    "print(a[:-4:-2]) "
   ]
  },
  {
   "cell_type": "code",
   "execution_count": 39,
   "id": "b2ba6673",
   "metadata": {},
   "outputs": [
    {
     "name": "stdout",
     "output_type": "stream",
     "text": [
      "10 20 30 40 \n",
      "10,20,30,40,\n",
      "10\n",
      "40\n",
      "[10, 20, 30]\n",
      "[10, 20, 100, 40, 50]\n",
      "[10, 20, 30, 40, 50, 60]\n",
      "[0, 1, 2, 0, 1, 2, 0, 1, 2, 0, 1, 2, 0, 1, 2]\n"
     ]
    }
   ],
   "source": [
    "# Propert No. 1\n",
    "\n",
    "a = [10,20,30,40]\n",
    "# method 1\n",
    "for i in a:\n",
    "    print(i,end=\" \")\n",
    "print()\n",
    "# Method 2\n",
    "for i in range(len(a)):\n",
    "    print(a[i],end=\",\")\n",
    "print()\n",
    "\n",
    "# Propert No. 2\n",
    "\n",
    "a = [10,20,30,40]\n",
    "print(a[0])\n",
    "print(a[-1])\n",
    "print(a[0:3])\n",
    "\n",
    "# Propert No. 3\n",
    "\n",
    "a = [10,20,30,40]\n",
    "a[2] = 100  # Ye humlog list me kar sakte hain aisa lekin string me nahi kar sakte hain \n",
    "a.append(50)\n",
    "print(a)\n",
    "\n",
    "# Propert No. 4\n",
    "\n",
    "a = [10,20,30]\n",
    "b = [40,50,60]\n",
    "print(a + b)\n",
    "\n",
    "a = [0,1,2]*5\n",
    "print(a)"
   ]
  },
  {
   "cell_type": "markdown",
   "id": "9aa54896",
   "metadata": {},
   "source": [
    "### Function of List..\n",
    "\n",
    "1. **len()** :- List ka length jan ne ke liye len() function ka use karte hain.\n",
    " - Syntax : len(List/variable_name). E.g. - `a = [10,20,30]` , `print(len(a))`\n",
    "2. **Index()** :- Kisi element ka list ke andar ka index jan ne ke liye index function ka use karte hain.\n",
    " - Syntax : List/variable_name.index(element). E.g. - `a = [10,20,30]` , `b = a.index(30)` ,  `print(b)`  \n",
    "3. **append()** :- jab kisi ek element ko list ke List ke end me add karna hota hai to append function ka use karte hain.\n",
    " - Syntax : List/variable_name.append(element). E.g :- `a = [10,20,30]` `a.append(40)` `print(a)`.\n",
    "4. **insert()** :- jab kisi ek element ko kisi specific index pe insert karna ho to insert function ka use karte hain.  \n",
    " - Syntax : List/variable_name.insert(index,element). E.g :- `a = [10,20,30]` `a.insert(1,40)` `print(a)`\n",
    "5. **remove()** :- jab kisi element ko list me se remove karna hota hai to remove function ka use karte hain.  \n",
    " - Syntax : List/variable_name.remove(element). E.g :- `a = [10,20,30]` `a.remove(10)` `print(a)`\n",
    "6. **pop()** :- jab kisi specific index ke element ko list se delete karna hota hai to pop fuction ka use karte hain.  \n",
    " - Syntax : List/variable_name.pop(index). E.g :- `a = [10,20,30]` `a.pop(1)` `print(a)`. Agar pop function ke andar index value me kuch nahi dene pe list ka last element delete hota hai.  \n",
    "7. **sort()** :- Jab list ke element ko ascending order me arrange karna hota hai to sort fumction ka use karte hain.  \n",
    " - Syntax : List/variable_name.sort(). E.g :- `a = [4,2,2,6,5]` `a.sort()` `print(a)`.\n",
    "8. **sorted()** :- sorted function sort function ke jaise hi kaam karta hai lekin diiference ye hai ki sort function same list ko hi modify karke arrange karta hai lekin sorted function original list ka copy leke usko modify karta hai or arrange karne ke baad modified list ko return karta hai.   \n",
    " - Syntax : new_list_variable_name = sorted(original_list_variable_name). E.g :- `a = [10,1,5,3,6]` `b = sorted(a)` `print(a)` `print(b)`\n",
    "9. **reverse()** :- Jab list ke elements ko reverse arrange karna hota hai to reverse function ka use karte hain.  \n",
    " - Syntax : List/variable_name.reverse(). E.g :- `a = [1,2,3,4,5]` `a.reverse()` `print(a)`.\n",
    "10. **reversed()** :- reversed function original list ka copy ko reverse karke us modified list ko return karta hain.  \n",
    " - Syntax : new_list_variable_name = reversed(original_list_variable_name). E.g :- `a = [1,2,3,4,5]` `b = reversed(a)` `print(a)` `print(b)`.\n",
    "11. **extend()** :- Jab ek baar me hi list me ek ya ek se jyada elemnt ko list ke end me dalna ho to extend function ka use karte hain.  \n",
    " - Syntax : List/variable_name.extend([element1,element2,element3]). E.g :- `a = [10,20,30]` `a.extend([40,50,60])` `print(a)`.\n",
    "12. **count()** Jab kis element ka list ke andar occurence (Counting) ke bare me pata karna ho to count function ka use karte hain.   \n",
    " - Syntax : List/variable_name.count(element) E.g :- `a = [1,2,1,3,1,4,1]` `b = a.count(1)` `print(b)`."
   ]
  },
  {
   "cell_type": "code",
   "execution_count": 53,
   "id": "6bfbf930",
   "metadata": {},
   "outputs": [
    {
     "name": "stdout",
     "output_type": "stream",
     "text": [
      "2\n"
     ]
    }
   ],
   "source": [
    "a = [10,1,5,3,6,1]\n",
    "c = a.count(1)\n",
    "print(c)"
   ]
  },
  {
   "cell_type": "markdown",
   "id": "0b0cec65",
   "metadata": {},
   "source": [
    "# Tuples in Python\n",
    "\n",
    "Tuple bhi ek iterable object hai jo apne andar ek ya us se jyada different tarike ka primitive or non-primitive data type hold kar ke rkh sakta hai.  \n",
    "**Primitive data type :-** int,float,boolean  \n",
    "**Non-Primitive data type :-** List,Tuple,Dictionary,String   \n",
    "Empty Tuple ko  `a = ()` or `a = tuple()` aise declare karte hain.  "
   ]
  },
  {
   "cell_type": "markdown",
   "id": "7c5f0a4a",
   "metadata": {},
   "source": [
    "### Property of Tuple\n",
    " 1. Jaisa ki humlog jante hain ki Tuple bhi ek iterable object jiske wajah se humlog uske andar ke elements ko loop ke help se access kar sakte hain.\n",
    " 2. Tuple Indexing support karta hai matlb ki humlog Tuple ke kisi element ko uske index value ke help se access kar sakte hain. Tuple ka indexing **0** se start hota hai or **Length of List - 1** pe khatam hota hain. E.g. - `a = (10,20,30)` agar humlog ko dekhna hai ki **a** ka second element kya hai to hume print karna hoga `print(a[1])` yaha index ek kam isliye hain kyu ki humne upar abhi padha tha ki string me indexing 0 se start hota hai. \n",
    "    - **Positive or Negative Indexing -** Ab kyu ki Tuple indexing support karta hain to **Python** me Tuple ka index positive or negative dono hota hai. Positive indexing ka matlb ki index number positive ho jaise .. `a = (10,20,30)` `print(a[0])` `print(a[1])`. Negative index ka matlab ki jiska index negative number ho jaise.. `a = (10,20,30)` `print(a[-1])` `print(a[-2]) `.    \n",
    "    Note - Negative index **-1** se start hota hai or **-length of string** pe end hota hai.\n",
    "    - **Tuple Slicing -** Kyu ki Tuple indexing support karta hai jiske wajah se humlog python me Tuple ka slicing bhi kar sakte hain. Tuple slicing matlb ki humlog original Tuple ko hi alag alag part me tod sakte hain.   \n",
    "    Syntax for slicing - varible_name[start:end+1].   \n",
    "     E.g. `a = (10,20,30,40,50,60)` `print(a[0:3])`.      \n",
    "     Note - Tuple ka Slicing karne se orginal Tuple me kuch changes nhi hota hai , Slicing karne se original Tuple ka hi ek copy value given range tak generate hota hai.    \n",
    " 3. Tuple Immutable hota hai, Matlb ki aap Tuple ke kisi bhi element ko nahi badal sakte hain. Aisa is liye hota hai kyu ki fir security issues aa jayenge. Chaho to aap pura Tuple hi badal sakte hain. E.g - `a = (1,2,3,4)` `a[0] = \"M\"` aisa nhi kar sakte hain kyu ki ke Tuple ke immutable rule ko break karega. humlog pura ka pura Tuple ka value hi badal sakte hain jaise `a = (\"a\",\"b\",\"c\")`. \n",
    " 4. Tuple koi bhi arithmetic Operator ko support nhi karta hai kyu ki aisa karne se Tuple ka immutability rule break hoga.    \n"
   ]
  },
  {
   "cell_type": "markdown",
   "id": "1570af3d",
   "metadata": {},
   "source": [
    "### Functions of Tuple\n",
    "\n",
    "Tuple me list ke sare function kaam nhi karte hain kyu ki immutability rule break hoga jaise sort,sorted,insert,remove,pop,etc.\n",
    "\n",
    "1. **len()** :- Tuple ka length jan ne ke liye len() function ka use karte hain.     \n",
    "Syntax : len(Tuple/variable_name). E.g. - `a = (10,20,30)` `print(len(a))`\n",
    "2. **Index()** :- Kisi element ka Tuple ke andar ka index jan ne ke liye index function ka use karte hain.    \n",
    "Syntax : Tuple/variable_name.index(element). E.g. - `a = (10,20,30)` `b = a.index(30)` `print(b)`\n",
    "3. **count()** :- Jab kis element ka Tuple ke andar occurence (Counting) ke bare me pata karna ho to count function ka use karte hain.   \n",
    "Syntax : Tuple/variable_name.count(element) E.g :- `a = (1,2,1,3,1,4,1)` `b = a.count(1)` `print(b)`."
   ]
  },
  {
   "cell_type": "markdown",
   "id": "2a35fd0c",
   "metadata": {},
   "source": [
    "# Set in Python\n",
    "\n",
    "Other programming language me ise Hashset bhi kahte hai.  \n",
    "Set bhi ek iterable object hai jo apne andar ek ya us se jyada different tarike ka primitive or non-primitive me sirf string data type hold kar ke rakh sakta hai, Lekin koi bhi value set me sirf ek baar hi store hota hai, set same value ko dubara store nhi karta hai jiska matlb set unique element ko store karta hai.  \n",
    "### Property of Sets\n",
    "- Set iterable object to hai lekin indexing support nai karta hai.\n",
    "- Set dynamic hota hai matlab ki set me humlog element add or remove kar sakte hain.\n",
    "- Empty set ko declare `S = set()` aise karte hain.\n",
    "- Set unordered hota hai matlb ki Set me element randomly rkha hota hai. \n",
    "- Kisi dusre data type ko set me change karne ke liye `a = \"Ravi\"` , `s = set(a)`, `print(s)`. aise karte hain."
   ]
  },
  {
   "cell_type": "markdown",
   "id": "b4563dce",
   "metadata": {},
   "source": [
    "### Function of Sets\n",
    "1. **len()** :- Set ka length jan ne ke liye len() function ka use karte hain.  \n",
    "Syntax : len(Set/variable_name). E.g. - `a = {10,20,30}` , `print(len(a))`\n",
    "2. **add()** :- Set me element ko add karne ke liye add function ka use karte hain.  \n",
    "Syntax : set/variable_name.add(element). E.g :- `a = {10,20,30}` , `a.add(40)` , `print(a)`.\n",
    "3. **remove()** :- Set se element ko remove karne ke liye humlog remove function ka use karte hain.\n",
    "Syntax : set/variable_name.remove(element). E.g :- `a = {10,20,30}` , `a.remove(30)` , `print(a)`."
   ]
  },
  {
   "cell_type": "markdown",
   "id": "fb41bddf",
   "metadata": {},
   "source": [
    "# Dictionary in Python\n",
    "\n",
    "Dictionary bhi ek iterable object hai jo apne andar ek ya ek se jyada different tarike ka primitive or non primitive data type ko hold kar ke rkh sakta hai lekin dictionary data ko Key value ke pair me store karta hai `dict = {key:value}`. E.g ke liye samjhte hain ki employe id key ke form me or employee details value ke form me store karna ho to. Let's see kaise karenge.   \n",
    "### Property of Dictionary\n",
    "- Dictionary iterable object to hai lekin indexing support nai karta hai.\n",
    "- Dictionary dynamic hota hai matlab ki Dictionary me humlog element add or remove kar sakte hain.\n",
    "- Empty Dictionary ko declare `d = dict()` aise karte hain.\n",
    "- Dictionary unordered hota hai matlb ki Dictionary me element randomly rkha hota hai. \n",
    "- Dictionary me Key unique hota hai, value duplicate ho sakta hai.  \n"
   ]
  },
  {
   "cell_type": "markdown",
   "id": "1f6ae53a",
   "metadata": {},
   "source": [
    "### Functions of Dictionary\n",
    "1. **len()** :- Dictioanry ka length jan ne ke liye len() function ka use karte hain.  \n",
    "Syntax : len(Dictionary/variable_name). E.g. - `a = {'a': 2, 'b': 3, 'c': 4}` , `print(len(a))`."
   ]
  },
  {
   "cell_type": "code",
   "execution_count": null,
   "id": "54b8de4a",
   "metadata": {},
   "outputs": [],
   "source": [
    "# structure of data  = {emp_id : [Emp_name , Emp_age, Emp_contact]}\n",
    "\n",
    "Emp_details = {101: [\"Ravi\",23,\"6479824878\"],\n",
    "              102 : [\"Manish\", 22,\"6789927327\"],\n",
    "              105 : [\"Abhishek\",24, \"765729720\"]}"
   ]
  }
 ],
 "metadata": {
  "kernelspec": {
   "display_name": "Python 3",
   "language": "python",
   "name": "python3"
  },
  "language_info": {
   "codemirror_mode": {
    "name": "ipython",
    "version": 3
   },
   "file_extension": ".py",
   "mimetype": "text/x-python",
   "name": "python",
   "nbconvert_exporter": "python",
   "pygments_lexer": "ipython3",
   "version": "3.9.1"
  },
  "vscode": {
   "interpreter": {
    "hash": "c9953cb44e75fb30d7e91cea68ba6a9cffd094e263b8008aa7d3b3bad487cdee"
   }
  }
 },
 "nbformat": 4,
 "nbformat_minor": 5
}
