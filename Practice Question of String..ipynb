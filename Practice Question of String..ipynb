{
 "cells": [
  {
   "cell_type": "markdown",
   "id": "c0605e7b",
   "metadata": {},
   "source": [
    "## Q. How do you reverse a given string in place?"
   ]
  },
  {
   "cell_type": "code",
   "execution_count": 1,
   "id": "bdce4c8d",
   "metadata": {},
   "outputs": [
    {
     "name": "stdout",
     "output_type": "stream",
     "text": [
      "manish\n",
      "hsinam\n"
     ]
    }
   ],
   "source": [
    "a = str(input())\n",
    "res = \"\"\n",
    "for i in a:\n",
    "    res = i+res\n",
    "print(res)"
   ]
  },
  {
   "cell_type": "markdown",
   "id": "8abafdd7",
   "metadata": {},
   "source": [
    "### Q. How do you print duplicate characters from a string?\n",
    "E.g. :-   \n",
    "I/P - a = \"geeks for geeks\"  \n",
    "O/P : g e k s \n"
   ]
  },
  {
   "cell_type": "code",
   "execution_count": 19,
   "id": "46fe8352",
   "metadata": {},
   "outputs": [
    {
     "name": "stdout",
     "output_type": "stream",
     "text": [
      "this is i loop g\n",
      "This is J loop g\n",
      "This is J loop e\n",
      "This is J loop e\n",
      "This is J loop k\n",
      "This is J loop s\n",
      "this is i loop e\n",
      "This is J loop g\n",
      "This is J loop e\n",
      "This is J loop e\n",
      "This is J loop k\n",
      "This is J loop s\n",
      "this is i loop e\n",
      "This is J loop g\n",
      "This is J loop e\n",
      "This is J loop e\n",
      "This is J loop k\n",
      "This is J loop s\n",
      "this is i loop k\n",
      "This is J loop g\n",
      "This is J loop e\n",
      "This is J loop e\n",
      "This is J loop k\n",
      "This is J loop s\n",
      "this is i loop s\n",
      "This is J loop g\n",
      "This is J loop e\n",
      "This is J loop e\n",
      "This is J loop k\n",
      "This is J loop s\n"
     ]
    }
   ],
   "source": [
    "a = \"geeks\"\n",
    "n = len(a)\n",
    "\n",
    "for i in range(n):\n",
    "    print(\"this is i loop\", a[i])\n",
    "    for j in range(n):\n",
    "        print(\"This is J loop\",a[j])\n"
   ]
  },
  {
   "cell_type": "code",
   "execution_count": 32,
   "id": "6cf11673",
   "metadata": {},
   "outputs": [
    {
     "name": "stdout",
     "output_type": "stream",
     "text": [
      "Counter({'e': 4, 'g': 2, 'k': 2, 's': 2, 'f': 1, 'o': 1, 'r': 1})\n",
      "count of g = 2 \n",
      "count of e = 4 \n",
      "count of k = 2 \n",
      "count of s = 2 \n"
     ]
    }
   ],
   "source": [
    "from collections import Counter\n",
    "a = \"geeksforgeeks\"\n",
    "temp = \"\"\n",
    "n = len(a)\n",
    "C = Counter(a)\n",
    "print(C)\n",
    "for i in a:\n",
    "    if C[i]>1 and i not in temp :\n",
    "        print(f\"count of {i} = {C[i]} \")\n",
    "        temp += i\n",
    "    \n",
    "          \n"
   ]
  },
  {
   "cell_type": "markdown",
   "id": "0e34f455",
   "metadata": {},
   "source": [
    "### Q. How do you check if a string contains only digits?"
   ]
  },
  {
   "cell_type": "code",
   "execution_count": 40,
   "id": "7a7ee735",
   "metadata": {},
   "outputs": [
    {
     "name": "stdout",
     "output_type": "stream",
     "text": [
      "No\n",
      "Yes\n"
     ]
    }
   ],
   "source": [
    "a = \"12a34\"\n",
    "digit = \"0123456789\"\n",
    "n = len(a)\n",
    "flag = True\n",
    "for i in a:\n",
    "    if i not in digit:\n",
    "        print(\"No\")\n",
    "        flag = False\n",
    "        break\n",
    "if flag == True:\n",
    "    print(\"Yes\")\n",
    "   \n",
    "# print(a.isdigit())\n"
   ]
  }
 ],
 "metadata": {
  "kernelspec": {
   "display_name": "Python 3",
   "language": "python",
   "name": "python3"
  },
  "language_info": {
   "codemirror_mode": {
    "name": "ipython",
    "version": 3
   },
   "file_extension": ".py",
   "mimetype": "text/x-python",
   "name": "python",
   "nbconvert_exporter": "python",
   "pygments_lexer": "ipython3",
   "version": "3.9.1"
  }
 },
 "nbformat": 4,
 "nbformat_minor": 5
}
